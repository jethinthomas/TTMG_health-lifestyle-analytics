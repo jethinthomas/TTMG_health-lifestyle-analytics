{
 "cells": [
  {
   "cell_type": "code",
   "execution_count": 8,
   "metadata": {},
   "outputs": [
    {
     "data": {
      "text/html": [
       "<div>\n",
       "<style scoped>\n",
       "    .dataframe tbody tr th:only-of-type {\n",
       "        vertical-align: middle;\n",
       "    }\n",
       "\n",
       "    .dataframe tbody tr th {\n",
       "        vertical-align: top;\n",
       "    }\n",
       "\n",
       "    .dataframe thead th {\n",
       "        text-align: right;\n",
       "    }\n",
       "</style>\n",
       "<table border=\"1\" class=\"dataframe\">\n",
       "  <thead>\n",
       "    <tr style=\"text-align: right;\">\n",
       "      <th></th>\n",
       "      <th>rank</th>\n",
       "      <th>country</th>\n",
       "      <th>quality_of_life</th>\n",
       "      <th>purchasing_power_index</th>\n",
       "      <th>safety_index</th>\n",
       "      <th>health_care_index</th>\n",
       "      <th>cost_of_living_index</th>\n",
       "      <th>property_price_to_income_ratio</th>\n",
       "      <th>traffic_commute_time_index</th>\n",
       "      <th>pollution_index</th>\n",
       "      <th>climate_index</th>\n",
       "    </tr>\n",
       "  </thead>\n",
       "  <tbody>\n",
       "    <tr>\n",
       "      <th>0</th>\n",
       "      <td>1</td>\n",
       "      <td>Switzerland</td>\n",
       "      <td>195.06</td>\n",
       "      <td>116.19</td>\n",
       "      <td>77.88</td>\n",
       "      <td>75.32</td>\n",
       "      <td>110.34</td>\n",
       "      <td>8.86</td>\n",
       "      <td>28.37</td>\n",
       "      <td>19.39</td>\n",
       "      <td>79.56</td>\n",
       "    </tr>\n",
       "    <tr>\n",
       "      <th>1</th>\n",
       "      <td>2</td>\n",
       "      <td>Denmark</td>\n",
       "      <td>194.15</td>\n",
       "      <td>99.76</td>\n",
       "      <td>73.66</td>\n",
       "      <td>79.77</td>\n",
       "      <td>73.09</td>\n",
       "      <td>6.30</td>\n",
       "      <td>28.41</td>\n",
       "      <td>20.92</td>\n",
       "      <td>81.80</td>\n",
       "    </tr>\n",
       "    <tr>\n",
       "      <th>2</th>\n",
       "      <td>3</td>\n",
       "      <td>Netherlands</td>\n",
       "      <td>191.46</td>\n",
       "      <td>99.58</td>\n",
       "      <td>72.43</td>\n",
       "      <td>75.93</td>\n",
       "      <td>67.71</td>\n",
       "      <td>7.36</td>\n",
       "      <td>26.63</td>\n",
       "      <td>24.72</td>\n",
       "      <td>86.92</td>\n",
       "    </tr>\n",
       "    <tr>\n",
       "      <th>3</th>\n",
       "      <td>4</td>\n",
       "      <td>Australia</td>\n",
       "      <td>190.72</td>\n",
       "      <td>117.56</td>\n",
       "      <td>55.17</td>\n",
       "      <td>77.76</td>\n",
       "      <td>72.27</td>\n",
       "      <td>5.60</td>\n",
       "      <td>34.68</td>\n",
       "      <td>24.19</td>\n",
       "      <td>93.90</td>\n",
       "    </tr>\n",
       "    <tr>\n",
       "      <th>4</th>\n",
       "      <td>5</td>\n",
       "      <td>Finland</td>\n",
       "      <td>186.84</td>\n",
       "      <td>91.00</td>\n",
       "      <td>73.16</td>\n",
       "      <td>76.75</td>\n",
       "      <td>63.75</td>\n",
       "      <td>7.54</td>\n",
       "      <td>27.58</td>\n",
       "      <td>12.02</td>\n",
       "      <td>56.64</td>\n",
       "    </tr>\n",
       "  </tbody>\n",
       "</table>\n",
       "</div>"
      ],
      "text/plain": [
       "   rank      country  quality_of_life  purchasing_power_index  safety_index  \\\n",
       "0     1  Switzerland           195.06                  116.19         77.88   \n",
       "1     2      Denmark           194.15                   99.76         73.66   \n",
       "2     3  Netherlands           191.46                   99.58         72.43   \n",
       "3     4    Australia           190.72                  117.56         55.17   \n",
       "4     5      Finland           186.84                   91.00         73.16   \n",
       "\n",
       "   health_care_index  cost_of_living_index  property_price_to_income_ratio  \\\n",
       "0              75.32                110.34                            8.86   \n",
       "1              79.77                 73.09                            6.30   \n",
       "2              75.93                 67.71                            7.36   \n",
       "3              77.76                 72.27                            5.60   \n",
       "4              76.75                 63.75                            7.54   \n",
       "\n",
       "   traffic_commute_time_index  pollution_index  climate_index  \n",
       "0                       28.37            19.39          79.56  \n",
       "1                       28.41            20.92          81.80  \n",
       "2                       26.63            24.72          86.92  \n",
       "3                       34.68            24.19          93.90  \n",
       "4                       27.58            12.02          56.64  "
      ]
     },
     "execution_count": 8,
     "metadata": {},
     "output_type": "execute_result"
    }
   ],
   "source": [
    "import pandas as pd\n",
    "import numpy as np\n",
    "import matplotlib.pyplot as plt\n",
    "import seaborn as sns\n",
    "from sklearn.cluster import KMeans\n",
    "from sklearn.preprocessing import StandardScaler , normalize\n",
    "from sklearn.metrics import silhouette_score\n",
    "\n",
    "df = pd.read_csv(\"health.csv\",index_col=False)\n",
    "# df.head()\n"
   ]
  },
  {
   "cell_type": "code",
   "execution_count": 9,
   "metadata": {},
   "outputs": [
    {
     "data": {
      "image/png": "[encoded data removed]",
      "text/plain": [
       "<Figure size 432x288 with 1 Axes>"
      ]
     },
     "metadata": {
      "needs_background": "light"
     },
     "output_type": "display_data"
    }
   ],
   "source": [
    "\n",
    "# K - Means works with Numeric Data\n",
    "selected_cols = [ \"quality_of_life\",\"health_care_index\"]\n",
    "cluster_data = df.loc [ : , selected_cols]\n",
    "# cluster_data\n",
    "\n",
    "#Plotting Scree Plot to find optimum number of clusters\n",
    "clusters_range = [ 2,3,4,5,6,7,8,9,10,11,12,13,14 ]\n",
    "inertias = []\n",
    "for c in clusters_range :\n",
    "    kmeans = KMeans(init = 'k-means++',n_clusters=c,n_init=100,random_state=0).fit(cluster_data)\n",
    "    inertias.append ( kmeans.inertia_ )\n",
    "plt.figure()\n",
    "plt.plot(clusters_range , inertias , marker = 'o')\n",
    "plt.show()\n"
   ]
  },
  {
   "cell_type": "code",
   "execution_count": 10,
   "metadata": {},
   "outputs": [
    {
     "data": {
      "image/png": "[encoded data removed]",
      "text/plain": [
       "<Figure size 432x288 with 2 Axes>"
      ]
     },
     "metadata": {
      "needs_background": "light"
     },
     "output_type": "display_data"
    }
   ],
   "source": [
    "from sklearn.metrics import silhouette_samples , silhouette_score\n",
    "clusters_range = range ( 2,15 )\n",
    "results = []\n",
    "for c in clusters_range :\n",
    "    clusterer = KMeans(init='k-means++',n_clusters=c,n_init=100,random_state=0)\n",
    "    cluster_labels = clusterer.fit_predict(cluster_data)\n",
    "    silhouette_avg = silhouette_score(cluster_data,cluster_labels)\n",
    "    results.append([c,silhouette_avg])\n",
    "result = pd.DataFrame(results,columns=[\"n_clusters\",\"silhouette_score\"])\n",
    "pivot_km = pd.pivot_table(result,index=\"n_clusters\",values=\"silhouette_score\")\n",
    "plt.figure()\n",
    "sns.heatmap(pivot_km,annot=True,linewidths=.5,fmt='.3f',cmap=sns.cm.rocket_r)\n",
    "plt.tight_layout()"
   ]
  },
  {
   "cell_type": "code",
   "execution_count": 25,
   "metadata": {},
   "outputs": [],
   "source": [
    "kmeans_sel = KMeans(init='k-means++',n_clusters=3,n_init=100,random_state=1).fit(cluster_data)\n",
    "labels = pd.DataFrame(kmeans_sel.labels_)\n",
    "clustered_data = cluster_data.assign(Cluster=labels)\n",
    "# scatters(clustered_data,h='Cluster')"
   ]
  },
  {
   "cell_type": "code",
   "execution_count": 28,
   "metadata": {},
   "outputs": [
    {
     "name": "stderr",
     "output_type": "stream",
     "text": [
      "c:\\Users\\jthomas1\\AppData\\Local\\Programs\\Python\\Python38\\lib\\site-packages\\IPython\\core\\interactiveshell.py:3251: FutureWarning:\n",
      "\n",
      "Dropping invalid columns in DataFrameGroupBy.mean is deprecated. In a future version, a TypeError will be raised. Before calling .mean, select only columns which should be valid for the function.\n",
      "\n"
     ]
    },
    {
     "data": {
      "text/html": [
       "<div>\n",
       "<style scoped>\n",
       "    .dataframe tbody tr th:only-of-type {\n",
       "        vertical-align: middle;\n",
       "    }\n",
       "\n",
       "    .dataframe tbody tr th {\n",
       "        vertical-align: top;\n",
       "    }\n",
       "\n",
       "    .dataframe thead th {\n",
       "        text-align: right;\n",
       "    }\n",
       "</style>\n",
       "<table border=\"1\" class=\"dataframe\">\n",
       "  <thead>\n",
       "    <tr style=\"text-align: right;\">\n",
       "      <th></th>\n",
       "    </tr>\n",
       "    <tr>\n",
       "      <th>Cluster</th>\n",
       "    </tr>\n",
       "  </thead>\n",
       "  <tbody>\n",
       "    <tr>\n",
       "      <th>0</th>\n",
       "    </tr>\n",
       "    <tr>\n",
       "      <th>1</th>\n",
       "    </tr>\n",
       "    <tr>\n",
       "      <th>2</th>\n",
       "    </tr>\n",
       "  </tbody>\n",
       "</table>\n",
       "</div>"
      ],
      "text/plain": [
       "Empty DataFrame\n",
       "Columns: []\n",
       "Index: [0, 1, 2]"
      ]
     },
     "execution_count": 28,
     "metadata": {},
     "output_type": "execute_result"
    }
   ],
   "source": [
    "grouped_km = clustered_data.groupby(['Cluster']).mean().round(1)\n",
    "grouped_km"
   ]
  },
  {
   "cell_type": "code",
   "execution_count": null,
   "metadata": {},
   "outputs": [],
   "source": []
  }
 ],
 "metadata": {
  "kernelspec": {
   "display_name": "Python 3.8.10 64-bit",
   "language": "python",
   "name": "python3"
  },
  "language_info": {
   "codemirror_mode": {
    "name": "ipython",
    "version": 3
   },
   "file_extension": ".py",
   "mimetype": "text/x-python",
   "name": "python",
   "nbconvert_exporter": "python",
   "pygments_lexer": "ipython3",
   "version": "3.8.10"
  },
  "orig_nbformat": 4,
  "vscode": {
   "interpreter": {
    "hash": "916dbcbb3f70747c44a77c7bcd40155683ae19c65e1c03b4aa3499c5328201f1"
   }
  }
 },
 "nbformat": 4,
 "nbformat_minor": 2
}
